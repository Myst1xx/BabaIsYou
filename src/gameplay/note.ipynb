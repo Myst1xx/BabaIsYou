{
 "cells": [
  {
   "cell_type": "code",
   "execution_count": 288,
   "metadata": {},
   "outputs": [],
   "source": [
    "import numpy as np"
   ]
  },
  {
   "cell_type": "markdown",
   "metadata": {},
   "source": [
    "## Gameplay"
   ]
  },
  {
   "cell_type": "code",
   "execution_count": 323,
   "metadata": {},
   "outputs": [],
   "source": [
    "class Gameplay:\n",
    "    def __init__(self, n_rows, n_cols):\n",
    "        self.n_rows = n_rows\n",
    "        self.n_cols = n_cols\n",
    "        self.rules = []\n",
    "        self.tiles = np.zeros((n_rows, n_cols), dtype=object)\n",
    "        for i in range(n_rows):\n",
    "            for j in range(n_cols):\n",
    "                self.tiles[i,j] = Tile()\n",
    "\n",
    "        self.prefixes = ['baba', 'rock', 'water', 'skull', 'wall', 'flag']\n",
    "        self.suffixes = ['win', 'defeat', 'sink', 'you', 'push', 'stop']        \n",
    "\n",
    "    def __repr__(self):\n",
    "        ret_val = ''\n",
    "        for i in range(self.n_rows):\n",
    "            for j in range(self.n_cols):\n",
    "                tile_string = ''\n",
    "                if len(self.tiles[i,j].objects) == 0:\n",
    "                    tile_string += '/'\n",
    "                else:\n",
    "                    for obj in self.tiles[i,j].objects:\n",
    "                        if isinstance(obj, Word):\n",
    "                            tile_string += obj.value.upper()\n",
    "                        else:\n",
    "                            tile_string += obj.property if obj.property !='' else 'null'\n",
    "                        tile_string += ','\n",
    "                ret_val += '{:10}'.format(tile_string)\n",
    "            ret_val += '\\n'           \n",
    "        return ret_val\n",
    "\n",
    "    \n",
    "    def get_rules(self):\n",
    "        self.rules = []\n",
    "        for i in range(self.n_rows):\n",
    "            for j in range(self.n_cols):\n",
    "                if self.tiles[i,j].find_word() == 'is':\n",
    "                    # horizontal\n",
    "                    if (j-1 >= 0) and (j+1 <= self.n_cols-1) and (self.tiles[i,j-1].find_word() in self.prefixes) and (self.tiles[i,j+1].find_word() in self.suffixes):\n",
    "                        self.rules += [Rule(self.tiles[i,j-1].find_word(), self.tiles[i,j+1].find_word())]\n",
    "\n",
    "                    # verical\n",
    "                    if (i-1 >= 0) and (i+1 <= self.n_rows-1) and (self.tiles[i-1,j].find_word() in self.prefixes) and (self.tiles[i+1,j].find_word() in self.suffixes):\n",
    "                        self.rules += [Rule(self.tiles[i-1,j].find_word(), self.tiles[i+1,j].find_word())]\n",
    "\n",
    "    # find a block upward (continuous)\n",
    "    # return block size if the block can be moved up\n",
    "    # return -1 if the block is blocked\n",
    "    def find_up_block(self, r, c):\n",
    "        if not self.tiles[r,c].have_property('you'):\n",
    "            return 0\n",
    "        \n",
    "        current_row = r - 1 #dem row tu 0 nen phai -1\n",
    "        count = 1\n",
    "\n",
    "        if current_row < 0: #khong day block len duoc nua\n",
    "            return -1\n",
    "\n",
    "        while current_row >= 0 and self.tiles[current_row,c].have_property('push'): #trong truong hop day duoc block thi dem row\n",
    "            count += 1\n",
    "            current_row -= 1\n",
    "        \n",
    "        if current_row < 0 or self.tiles[current_row,c].have_property('stop') or self.tiles[current_row,c].have_property('you'): #check o tiep theo cua block co phai limit cua map hoac chua stop hay khong\n",
    "            return -1\n",
    "        else:\n",
    "            return count\n",
    "\n",
    "    def find_down_block(self, r, c):\n",
    "        if not self.tiles[r,c].have_property('you'):\n",
    "            return 0\n",
    "\n",
    "        current_row = r + 1\n",
    "        count = 1\n",
    "\n",
    "        if current_row >= self.n_rows:\n",
    "            return -1\n",
    "        while current_row < self.n_rows and self.tiles[current_row,c].have_property('push'):\n",
    "            count += 1\n",
    "            current_row += 1\n",
    "        if current_row >= self.n_rows or self.tiles[current_row,c].have_property('stop') or self.tiles[current_row,c].have_property('you'):\n",
    "            return -1\n",
    "        else:\n",
    "            return count  \n",
    "\n",
    "    def find_right_block(self, r, c):\n",
    "        if not self.tiles[r,c].have_property('you'):\n",
    "            return 0\n",
    "\n",
    "        current_col = c + 1\n",
    "        count = 1\n",
    "\n",
    "        if current_col >= self.n_rows:\n",
    "            return -1\n",
    "        while current_col < self.n_rows and self.tiles[r,current_col].have_property('push'):\n",
    "            count += 1\n",
    "            current_col += 1\n",
    "        if current_col >= self.n_rows or self.tiles[r,current_col].have_property('stop') or self.tiles[r,current_col].have_property('you'):\n",
    "            return -1\n",
    "        else:\n",
    "            return count  \n",
    "\n",
    "    def find_left_block(self, r, c):\n",
    "        if not self.tiles[r,c].have_property('you'):\n",
    "            return 0\n",
    "        \n",
    "        current_col = c - 1\n",
    "        count = 1\n",
    "\n",
    "        if current_col < 0:\n",
    "            return -1\n",
    "\n",
    "        while current_col >= 0 and self.tiles[r,current_col].have_property('push'):\n",
    "            count += 1\n",
    "            current_col -= 1\n",
    "        \n",
    "        if current_col < 0 or self.tiles[r,current_col].have_property('stop') or self.tiles[r,current_col].have_property('you'):\n",
    "            return -1\n",
    "        else:\n",
    "            return count\n",
    "        \n",
    "    def move_up(self):\n",
    "        for r in range(self.n_rows):\n",
    "            for c in range(self.n_cols):\n",
    "                size = self.find_up_block(r,c)\n",
    "                if size > 0:\n",
    "                    for current_row in range(r - size + 1, r + 1):\n",
    "                        temp = self.tiles[current_row,c].pop_push_or_you()\n",
    "                        self.tiles[current_row-1,c].objects = np.append(self.tiles[current_row-1,c].objects,[temp])\n",
    "\n",
    "    def move_down(self):\n",
    "        for r in range(self.n_rows-1, -1, -1):\n",
    "            for c in range(self.n_cols):\n",
    "                size = self.find_down_block(r,c)\n",
    "                if size > 0:\n",
    "                    for current_row in range(r + size - 1, r-1, -1):\n",
    "                        temp = self.tiles[current_row,c].pop_push_or_you()\n",
    "                        self.tiles[current_row+1,c].objects = np.append(self.tiles[current_row+1,c].objects,[temp])\n",
    "\n",
    "    # move_left giống move_up\n",
    "    def move_left(self):\n",
    "        for c in range(self.n_cols):\n",
    "            for r in range(self.n_rows):\n",
    "                size = self.find_left_block(r,c)\n",
    "                if size > 0:\n",
    "                    for current_col in range(c - size + 1, c + 1):\n",
    "                        temp = self.tiles[r,current_col].pop_push_or_you() # lưu ô hiện tại vào temp\n",
    "                        self.tiles[r,current_col-1].objects = np.append(self.tiles[r,current_col-1].objects,[temp]) # nhét temp vào cột bên trái\n",
    "\n",
    "    # move_right giống move_down\n",
    "    def move_right(self):\n",
    "        for c in range(self.n_cols-1, -1, -1):\n",
    "            for r in range(self.n_rows):\n",
    "                size = self.find_right_block(r,c)\n",
    "                if size > 0:\n",
    "                    for current_col in range(c + size - 1, c-1, -1):\n",
    "                        temp = self.tiles[r,current_col].pop_push_or_you()\n",
    "                        self.tiles[r,current_col+1].objects = np.append(self.tiles[r,current_col+1].objects,[temp])\n",
    "\n",
    "    def check_win(self):\n",
    "        for r in range(self.n_rows):\n",
    "            for c in range(self.n_cols):\n",
    "                if self.tiles[r,c].have_property('you') and self.tiles[r,c].have_property('win'):\n",
    "                    return True\n",
    "        return False\n",
    "    \n",
    "    def check_lose(self):\n",
    "        for r in range(self.n_rows):\n",
    "            for c in range(self.n_cols):\n",
    "                if self.tiles[r,c].have_property('you'):\n",
    "                    return False\n",
    "        return True\n",
    "\n",
    "    def reset_game(self):\n",
    "        pass\n",
    "\n",
    "    def load_map(self, file_name):\n",
    "        self.file_name = file_name"
   ]
  },
  {
   "cell_type": "markdown",
   "metadata": {},
   "source": [
    "## Rules"
   ]
  },
  {
   "cell_type": "code",
   "execution_count": 290,
   "metadata": {},
   "outputs": [],
   "source": [
    "class Rule:\n",
    "    def __init__(self, first, second):\n",
    "        # first là giá trị trc chữ 'is', second là giá trị sau chữ 'is'\n",
    "        self.first = first\n",
    "        self.second = second\n",
    "\n",
    "    def __repr__(self):\n",
    "        return self.first + ' is ' + self.second"
   ]
  },
  {
   "cell_type": "markdown",
   "metadata": {},
   "source": [
    "## Object"
   ]
  },
  {
   "cell_type": "code",
   "execution_count": 291,
   "metadata": {},
   "outputs": [],
   "source": [
    "class Object:\n",
    "    def __init__(self, property=''):\n",
    "        self.property = property\n",
    "\n",
    "    def interact(self, another_object: object):\n",
    "        pass"
   ]
  },
  {
   "cell_type": "code",
   "execution_count": 292,
   "metadata": {},
   "outputs": [],
   "source": [
    "class Baba(Object):\n",
    "    def interact(self, another_object: object):\n",
    "        pass"
   ]
  },
  {
   "cell_type": "code",
   "execution_count": 293,
   "metadata": {},
   "outputs": [],
   "source": [
    "class Rock(Object):\n",
    "    def interact(self, another_object: object):\n",
    "        pass    "
   ]
  },
  {
   "cell_type": "code",
   "execution_count": 294,
   "metadata": {},
   "outputs": [],
   "source": [
    "class Water(Object):\n",
    "    def interact(self, another_object: object):\n",
    "        pass"
   ]
  },
  {
   "cell_type": "code",
   "execution_count": 295,
   "metadata": {},
   "outputs": [],
   "source": [
    "class Skull(Object):\n",
    "    def interact(self, another_object: object):\n",
    "        pass    "
   ]
  },
  {
   "cell_type": "code",
   "execution_count": 296,
   "metadata": {},
   "outputs": [],
   "source": [
    "class Wall(Object):\n",
    "    def interact(self, another_object: object):\n",
    "        pass"
   ]
  },
  {
   "cell_type": "code",
   "execution_count": 297,
   "metadata": {},
   "outputs": [],
   "source": [
    "class Word(Object):\n",
    "    def __init__(self, value):\n",
    "        super().__init__(\"push\")\n",
    "        self.value = value\n",
    "    \n",
    "    def interact(self, another_object: object):\n",
    "        pass\n",
    "        "
   ]
  },
  {
   "cell_type": "code",
   "execution_count": 298,
   "metadata": {},
   "outputs": [],
   "source": [
    "class Flag(Object):\n",
    "    def interact(self, another_object: object):\n",
    "        pass"
   ]
  },
  {
   "cell_type": "markdown",
   "metadata": {},
   "source": [
    "## Tiles"
   ]
  },
  {
   "cell_type": "code",
   "execution_count": 299,
   "metadata": {},
   "outputs": [],
   "source": [
    "class Tile:\n",
    "    def __init__(self):\n",
    "        self.objects = np.array([], dtype=object)\n",
    "\n",
    "    def add_object(self, obj: Object):\n",
    "        self.objects = np.append(self.objects, [obj])\n",
    "\n",
    "    def find_word(self):\n",
    "        # return word value if exists, return '' otherwise\n",
    "        for i in self.objects:\n",
    "            if isinstance(i, Word):\n",
    "                return i.value\n",
    "        return ''\n",
    "\n",
    "    def have_property(self, property):\n",
    "        for obj in self.objects:\n",
    "            if obj.property == property:\n",
    "                return True\n",
    "        return False\n",
    "\n",
    "    def pop_push_or_you(self):\n",
    "        position = -1\n",
    "        for i in range(len(self.objects)):\n",
    "            if self.objects[i].property == 'push' or self.objects[i].property == 'you':\n",
    "                position = i\n",
    "        temp_object = self.objects[position]\n",
    "        self.objects = np.delete(self.objects, position)\n",
    "\n",
    "\n",
    "        return temp_object"
   ]
  },
  {
   "cell_type": "markdown",
   "metadata": {},
   "source": [
    "## Unit Testing"
   ]
  },
  {
   "cell_type": "code",
   "execution_count": 348,
   "metadata": {},
   "outputs": [],
   "source": [
    "gp = Gameplay(10,10)\n",
    "gp.tiles[0,0].add_object(Word('baba'))\n",
    "gp.tiles[0,1].add_object(Word('baba'))\n",
    "gp.tiles[1,0].add_object(Word('is'))\n",
    "gp.tiles[2,2].add_object(Word('rock'))\n",
    "#gp.tiles[1,2].add_object(Baba('you'))\n",
    "#gp.tiles[5,5].add_object(Baba('you'))\n",
    "gp.tiles[9,9].add_object(Flag('win'))\n",
    "gp.get_rules()"
   ]
  },
  {
   "cell_type": "code",
   "execution_count": 349,
   "metadata": {},
   "outputs": [
    {
     "name": "stdout",
     "output_type": "stream",
     "text": [
      "BABA,     BABA,     /         /         /         /         /         /         /         /         \n",
      "IS,       /         /         /         /         /         /         /         /         /         \n",
      "/         /         ROCK,     /         /         /         /         /         /         /         \n",
      "/         /         /         /         /         /         /         /         /         /         \n",
      "/         /         /         /         /         /         /         /         /         /         \n",
      "/         /         /         /         /         /         /         /         /         /         \n",
      "/         /         /         /         /         /         /         /         /         /         \n",
      "/         /         /         /         /         /         /         /         /         /         \n",
      "/         /         /         /         /         /         /         /         /         /         \n",
      "/         /         /         /         /         /         /         /         /         win,      \n",
      "\n"
     ]
    }
   ],
   "source": [
    "gp.move_up()\n",
    "print(gp)"
   ]
  },
  {
   "cell_type": "code",
   "execution_count": 346,
   "metadata": {},
   "outputs": [
    {
     "name": "stdout",
     "output_type": "stream",
     "text": [
      "BABA,     BABA,     /         /         /         /         /         /         /         /         \n",
      "IS,       /         /         /         /         /         /         /         /         /         \n",
      "/         /         ROCK,     /         /         /         /         /         /         /         \n",
      "/         /         /         /         /         /         /         /         /         /         \n",
      "/         /         /         /         /         /         /         /         /         /         \n",
      "/         /         /         /         /         /         you,      /         /         /         \n",
      "/         /         /         /         /         /         /         /         /         /         \n",
      "/         /         /         /         /         /         /         /         /         /         \n",
      "/         /         /         /         /         /         /         /         /         /         \n",
      "/         /         /         /         /         /         /         /         /         win,you,  \n",
      "\n"
     ]
    }
   ],
   "source": [
    "gp.move_down()\n",
    "print(gp)\n"
   ]
  },
  {
   "cell_type": "code",
   "execution_count": 322,
   "metadata": {},
   "outputs": [
    {
     "name": "stdout",
     "output_type": "stream",
     "text": [
      "BABA,     BABA,     /         /         /         /         /         /         /         /         \n",
      "IS,       you,      /         /         /         /         /         /         /         /         \n",
      "/         /         ROCK,     /         /         /         /         /         /         /         \n",
      "/         you,      /         /         /         /         /         /         /         /         \n",
      "/         /         /         /         /         /         /         /         /         /         \n",
      "/         /         /         /         /         /         /         /         /         /         \n",
      "/         /         /         /         /         /         /         /         /         /         \n",
      "/         /         /         /         /         /         /         /         /         /         \n",
      "/         /         /         /         /         /         /         /         /         /         \n",
      "/         /         /         /         /         /         /         /         /         win,      \n",
      "\n"
     ]
    }
   ],
   "source": [
    "gp.move_left()\n",
    "print(gp)"
   ]
  },
  {
   "cell_type": "code",
   "execution_count": 341,
   "metadata": {},
   "outputs": [
    {
     "name": "stdout",
     "output_type": "stream",
     "text": [
      "BABA,     BABA,     /         /         /         /         /         /         /         /         \n",
      "IS,       /         /         /         /         /         you,      /         /         /         \n",
      "/         /         ROCK,     /         /         /         /         /         /         /         \n",
      "/         /         /         /         /         /         /         /         /         /         \n",
      "/         /         /         /         /         /         /         /         /         /         \n",
      "/         /         /         /         /         /         /         /         /         you,      \n",
      "/         /         /         /         /         /         /         /         /         /         \n",
      "/         /         /         /         /         /         /         /         /         /         \n",
      "/         /         /         /         /         /         /         /         /         /         \n",
      "/         /         /         /         /         /         /         /         /         win,      \n",
      "\n"
     ]
    }
   ],
   "source": [
    "gp.move_right()\n",
    "print(gp)"
   ]
  },
  {
   "cell_type": "code",
   "execution_count": 350,
   "metadata": {},
   "outputs": [
    {
     "name": "stdout",
     "output_type": "stream",
     "text": [
      "You are fucking dead bro, you suck\n"
     ]
    }
   ],
   "source": [
    "if gp.check_win():\n",
    "    print('You win')\n",
    "if gp.check_lose():\n",
    "    print('You are fucking dead bro, you suck')"
   ]
  }
 ],
 "metadata": {
  "interpreter": {
   "hash": "f5a6cacfab04002666ccf477fdf74417f64367bc5d41cee434d7d20366cfdb9d"
  },
  "kernelspec": {
   "display_name": "Python 3.9.7 64-bit",
   "language": "python",
   "name": "python3"
  },
  "language_info": {
   "codemirror_mode": {
    "name": "ipython",
    "version": 3
   },
   "file_extension": ".py",
   "mimetype": "text/x-python",
   "name": "python",
   "nbconvert_exporter": "python",
   "pygments_lexer": "ipython3",
   "version": "3.8.8"
  },
  "orig_nbformat": 4
 },
 "nbformat": 4,
 "nbformat_minor": 2
}
