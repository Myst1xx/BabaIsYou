{
 "cells": [
  {
   "cell_type": "code",
   "execution_count": 1,
   "metadata": {},
   "outputs": [],
   "source": [
    "import numpy as np"
   ]
  },
  {
   "cell_type": "markdown",
   "metadata": {},
   "source": [
    "## Gameplay"
   ]
  },
  {
   "cell_type": "code",
   "execution_count": 64,
   "metadata": {},
   "outputs": [],
   "source": [
    "class Gameplay:\n",
    "    def __init__(self, n_rows, n_cols):\n",
    "        self.n_rows = n_rows\n",
    "        self.n_cols = n_cols\n",
    "        self.rules = []\n",
    "        self.tiles = np.zeros((n_rows, n_cols), dtype=object)\n",
    "        for i in range(n_rows):\n",
    "            for j in range(n_cols):\n",
    "                self.tiles[i,j] = Tile()\n",
    "\n",
    "        self.prefixes = ['baba', 'rock', 'water', 'skull', 'wall', 'flag']\n",
    "        self.suffixes = ['win', 'defeat', 'sink', 'you', 'push', 'stop']        \n",
    "\n",
    "    def __repr__(self):\n",
    "        ret_val = ''\n",
    "        for i in range(self.n_rows):\n",
    "            for j in range(self.n_cols):\n",
    "                tile_string = ''\n",
    "                if len(self.tiles[i,j].objects) == 0:\n",
    "                    tile_string += '/'\n",
    "                else:\n",
    "                    for obj in self.tiles[i,j].objects:\n",
    "                        if isinstance(obj, Word):\n",
    "                            tile_string += obj.value\n",
    "                        else:\n",
    "                            tile_string += obj.property if obj.property !='' else 'null'\n",
    "                        tile_string += ','\n",
    "                ret_val += '{:10}'.format(tile_string)\n",
    "            ret_val += '\\n'           \n",
    "        return ret_val\n",
    "\n",
    "    \n",
    "    def get_rules(self):\n",
    "        self.rules = []\n",
    "        for i in range(self.n_rows):\n",
    "            for j in range(self.n_cols):\n",
    "                if self.tiles[i,j].find_word() == 'is':\n",
    "                    # horizontal\n",
    "                    if (j-1 >= 0) and (j+1 <= self.n_cols-1) and (self.tiles[i,j-1].find_word() in self.prefixes) and (self.tiles[i,j+1].find_word() in self.suffixes):\n",
    "                        self.rules += [Rule(self.tiles[i,j-1].find_word(), self.tiles[i,j+1].find_word())]\n",
    "\n",
    "                    # verical\n",
    "                    if (i-1 >= 0) and (i+1 <= self.n_rows-1) and (self.tiles[i-1,j].find_word() in self.prefixes) and (self.tiles[i+1,j].find_word() in self.suffixes):\n",
    "                        self.rules += [Rule(self.tiles[i-1,j].find_word(), self.tiles[i+1,j].find_word())]\n",
    "\n",
    "\n",
    "    def move_up(self):\n",
    "        pass\n",
    "\n",
    "    def move_down(self):\n",
    "        pass\n",
    "\n",
    "    def move_left(self):\n",
    "        pass\n",
    "\n",
    "    def move_right(self):\n",
    "        pass\n",
    "\n",
    "    def push(self, direction, row, col):\n",
    "        self.direction = direction\n",
    "        self.row = row\n",
    "        self.col = col\n",
    "\n",
    "    def check_win(self):\n",
    "        pass\n",
    "\n",
    "    def check_lose(self):\n",
    "        pass\n",
    "\n",
    "    def reset_game(self):\n",
    "        pass\n",
    "\n",
    "    def load_map(self, file_name):\n",
    "        self.file_name = file_name"
   ]
  },
  {
   "cell_type": "markdown",
   "metadata": {},
   "source": [
    "## Rules"
   ]
  },
  {
   "cell_type": "code",
   "execution_count": 3,
   "metadata": {},
   "outputs": [],
   "source": [
    "class Rule:\n",
    "    def __init__(self, first, second):\n",
    "        # first là giá trị trc chữ 'is', second là giá trị sau chữ 'is'\n",
    "        self.first = first\n",
    "        self.second = second\n",
    "\n",
    "    def __repr__(self):\n",
    "        return self.first + ' is ' + self.second"
   ]
  },
  {
   "cell_type": "markdown",
   "metadata": {},
   "source": [
    "## Object"
   ]
  },
  {
   "cell_type": "code",
   "execution_count": 4,
   "metadata": {},
   "outputs": [],
   "source": [
    "class Object:\n",
    "    def __init__(self, property=''):\n",
    "        self.property = property\n",
    "\n",
    "    def interact(self, another_object: object):\n",
    "        pass"
   ]
  },
  {
   "cell_type": "code",
   "execution_count": 5,
   "metadata": {},
   "outputs": [],
   "source": [
    "class Baba(Object):\n",
    "    def interact(self, another_object: object):\n",
    "        pass"
   ]
  },
  {
   "cell_type": "code",
   "execution_count": 6,
   "metadata": {},
   "outputs": [],
   "source": [
    "class Rock(Object):\n",
    "    def interact(self, another_object: object):\n",
    "        pass    "
   ]
  },
  {
   "cell_type": "code",
   "execution_count": 7,
   "metadata": {},
   "outputs": [],
   "source": [
    "class Water(Object):\n",
    "    def interact(self, another_object: object):\n",
    "        pass"
   ]
  },
  {
   "cell_type": "code",
   "execution_count": 8,
   "metadata": {},
   "outputs": [],
   "source": [
    "class Skull(Object):\n",
    "    def interact(self, another_object: object):\n",
    "        pass    "
   ]
  },
  {
   "cell_type": "code",
   "execution_count": 9,
   "metadata": {},
   "outputs": [],
   "source": [
    "class Wall(Object):\n",
    "    def interact(self, another_object: object):\n",
    "        pass"
   ]
  },
  {
   "cell_type": "code",
   "execution_count": 10,
   "metadata": {},
   "outputs": [],
   "source": [
    "class Word(Object):\n",
    "    def __init__(self, value):\n",
    "        super().__init__(\"push\")\n",
    "        self.value = value\n",
    "    \n",
    "    def interact(self, another_object: object):\n",
    "        pass\n",
    "        "
   ]
  },
  {
   "cell_type": "code",
   "execution_count": 11,
   "metadata": {},
   "outputs": [],
   "source": [
    "class Flag(Object):\n",
    "    def interact(self, another_object: object):\n",
    "        pass"
   ]
  },
  {
   "cell_type": "markdown",
   "metadata": {},
   "source": [
    "## Tiles"
   ]
  },
  {
   "cell_type": "code",
   "execution_count": 12,
   "metadata": {},
   "outputs": [],
   "source": [
    "class Tile:\n",
    "    def __init__(self):\n",
    "        self.objects = np.array([], dtype=object)\n",
    "\n",
    "    def add_object(self, obj: Object):\n",
    "        self.objects = np.append(self.objects, [obj])\n",
    "\n",
    "    def find_word(self):\n",
    "        # return word value if exists, return '' otherwise\n",
    "        for i in self.objects:\n",
    "            if isinstance(i, Word):\n",
    "                return i.value\n",
    "        return ''"
   ]
  },
  {
   "cell_type": "markdown",
   "metadata": {},
   "source": [
    "## Unit Testing"
   ]
  },
  {
   "cell_type": "code",
   "execution_count": 62,
   "metadata": {},
   "outputs": [],
   "source": [
    "gp = Gameplay(10,10)\n",
    "gp.tiles[0,0].add_object(Word('baba'))\n",
    "gp.tiles[0,1].add_object(Word('baba'))\n",
    "gp.tiles[1,0].add_object(Word('is'))\n",
    "gp.tiles[2,2].add_object(Word('rock'))\n",
    "gp.get_rules()"
   ]
  },
  {
   "cell_type": "code",
   "execution_count": 63,
   "metadata": {},
   "outputs": [
    {
     "name": "stdout",
     "output_type": "stream",
     "text": [
      "[]\n",
      "baba,     baba,     /         /         /         /         /         /         /         /         \n",
      "is,       /         /         /         /         /         /         /         /         /         \n",
      "/         /         rock,     /         /         /         /         /         /         /         \n",
      "/         /         /         /         /         /         /         /         /         /         \n",
      "/         /         /         /         /         /         /         /         /         /         \n",
      "/         /         /         /         /         /         /         /         /         /         \n",
      "/         /         /         /         /         /         /         /         /         /         \n",
      "/         /         /         /         /         /         /         /         /         /         \n",
      "/         /         /         /         /         /         /         /         /         /         \n",
      "/         /         /         /         /         /         /         /         /         /         \n",
      "\n"
     ]
    }
   ],
   "source": [
    "print(gp.rules)\n",
    "print(gp)\n"
   ]
  }
 ],
 "metadata": {
  "interpreter": {
   "hash": "f5a6cacfab04002666ccf477fdf74417f64367bc5d41cee434d7d20366cfdb9d"
  },
  "kernelspec": {
   "display_name": "Python 3.9.7 64-bit",
   "language": "python",
   "name": "python3"
  },
  "language_info": {
   "codemirror_mode": {
    "name": "ipython",
    "version": 3
   },
   "file_extension": ".py",
   "mimetype": "text/x-python",
   "name": "python",
   "nbconvert_exporter": "python",
   "pygments_lexer": "ipython3",
   "version": "3.8.8"
  },
  "orig_nbformat": 4
 },
 "nbformat": 4,
 "nbformat_minor": 2
}
